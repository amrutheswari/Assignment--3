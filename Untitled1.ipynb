{
  "nbformat": 4,
  "nbformat_minor": 0,
  "metadata": {
    "colab": {
      "name": "Untitled1.ipynb",
      "provenance": [],
      "collapsed_sections": [],
      "authorship_tag": "ABX9TyM6oKAGmIYP43wtN6rcNKy4",
      "include_colab_link": true
    },
    "kernelspec": {
      "name": "python3",
      "display_name": "Python 3"
    }
  },
  "cells": [
    {
      "cell_type": "markdown",
      "metadata": {
        "id": "view-in-github",
        "colab_type": "text"
      },
      "source": [
        "<a href=\"https://colab.research.google.com/github/amrutheswari/Assignment--3/blob/master/Untitled1.ipynb\" target=\"_parent\"><img src=\"https://colab.research.google.com/assets/colab-badge.svg\" alt=\"Open In Colab\"/></a>"
      ]
    },
    {
      "cell_type": "code",
      "metadata": {
        "id": "5pYhkQDuatG7",
        "colab_type": "code",
        "colab": {
          "base_uri": "https://localhost:8080/",
          "height": 50
        },
        "outputId": "9918b60f-dc51-4e4e-bf6e-1595e8b13174"
      },
      "source": [
        "#eligible for vote or not\n",
        "age=int(input(\"enter your age\"))\n",
        "if age>=18:\n",
        "  print(\"your are eligible to vote\")\n",
        "else:\n",
        "  print(\"your are not eligible to vote\")  "
      ],
      "execution_count": null,
      "outputs": [
        {
          "output_type": "stream",
          "text": [
            "enter your age12\n",
            "your are not eligible to vote\n"
          ],
          "name": "stdout"
        }
      ]
    },
    {
      "cell_type": "code",
      "metadata": {
        "id": "nmEwny8GbcS1",
        "colab_type": "code",
        "colab": {
          "base_uri": "https://localhost:8080/",
          "height": 50
        },
        "outputId": "2a8d171c-3163-4170-e55c-6c701ac4e783"
      },
      "source": [
        "#check the number is even or odd\n",
        "num=int(input(\"enter any value\"))\n",
        "if(num%2)==0:\n",
        "  print(num ,\"is an even number\")\n",
        "else:\n",
        "  print(num,\"is an odd number\")  "
      ],
      "execution_count": null,
      "outputs": [
        {
          "output_type": "stream",
          "text": [
            "enter any value3\n",
            "3 is an odd number\n"
          ],
          "name": "stdout"
        }
      ]
    },
    {
      "cell_type": "code",
      "metadata": {
        "id": "ZcWRAqMTdZPq",
        "colab_type": "code",
        "colab": {
          "base_uri": "https://localhost:8080/",
          "height": 67
        },
        "outputId": "b4800809-4656-48ef-f3a6-bc4b658ac600"
      },
      "source": [
        "#check the number is prime or not\n",
        "num=int(input(\"enter any value\"))\n",
        "if num>1:\n",
        "  for i in range(2,num):\n",
        "    if (num%i)==0:\n",
        "       print(num ,\"is not a prime number\")\n",
        "       print(i,\"times\",num//i,\"is\",num)\n",
        "       break\n",
        "  else:\n",
        "        print(num,\"is a prime number\")  \n",
        "else:\n",
        "   print(num,\"is not a prime number\")"
      ],
      "execution_count": 26,
      "outputs": [
        {
          "output_type": "stream",
          "text": [
            "enter any value20\n",
            "20 is not a prime number\n",
            "2 times 10 is 20\n"
          ],
          "name": "stdout"
        }
      ]
    },
    {
      "cell_type": "code",
      "metadata": {
        "id": "kQiRLVdnp8c1",
        "colab_type": "code",
        "colab": {
          "base_uri": "https://localhost:8080/",
          "height": 50
        },
        "outputId": "cc873021-82f2-4e8c-d790-6853f6e1863b"
      },
      "source": [
        "num = float(input(\"Enter a number: \"))\n",
        "if num > 0:\n",
        "   print(\"Positive number\")\n",
        "else:\n",
        "   print(\"not a positive number\")"
      ],
      "execution_count": 29,
      "outputs": [
        {
          "output_type": "stream",
          "text": [
            "Enter a number: 2\n",
            "Positive number\n"
          ],
          "name": "stdout"
        }
      ]
    },
    {
      "cell_type": "code",
      "metadata": {
        "id": "F-hT6XuJpoB4",
        "colab_type": "code",
        "colab": {
          "base_uri": "https://localhost:8080/",
          "height": 84
        },
        "outputId": "57b2e3ab-4f9b-4de7-ca80-029144820b8b"
      },
      "source": [
        "import math\n",
        "\n",
        "a = float(input(\"value of  a: \"))\n",
        "b = float(input(\"value of  b: \"))\n",
        "c = float(input(\"value of  c: \"))\n",
        "\n",
        "discr = b**2 - 4 * a * c\n",
        "\n",
        "if discr >= 0:\n",
        "    x1=(-b+math.sqrt(discr))/2*a\n",
        "    x2=(-b-math.sqrt(discr))/2*a\n",
        "else:\n",
        "    x1= complex((-b/(2*a)),math.sqrt(-discr)/(2*a))\n",
        "    x2= complex((-b/(2*a)),-math.sqrt(-discr)/(2*a))\n",
        "\n",
        "if discr > 0:\n",
        "    print(\"roots are distinct real roots: {} and {}\".format(x_1,x_2))\n",
        "elif discr == 0:\n",
        "    print(\"roots are real and equal root: \", x_1)\n",
        "else:\n",
        "    print(\"roots are imaginary roots: {}  and {}\".format(x_1,x_2))"
      ],
      "execution_count": 30,
      "outputs": [
        {
          "output_type": "stream",
          "text": [
            "value of  a: 2\n",
            "value of  b: 5\n",
            "value of  c: 8\n",
            "roots are imaginary roots: -0.9651209943605998  and -259.03487900563937\n"
          ],
          "name": "stdout"
        }
      ]
    },
    {
      "cell_type": "code",
      "metadata": {
        "id": "LEeQEWIZr4qd",
        "colab_type": "code",
        "colab": {
          "base_uri": "https://localhost:8080/",
          "height": 50
        },
        "outputId": "df565606-5f66-444d-d4eb-6db90b868a1b"
      },
      "source": [
        "#check the number is positive negative or zero\n",
        "num=int(input(\"enter any value\"))\n",
        "if num>0:\n",
        "  print(num,\"positive number\")\n",
        "elif num==0:\n",
        "    print(num,\"number is zero\")\n",
        "else:\n",
        "    print(num,\"negative number\")    "
      ],
      "execution_count": 35,
      "outputs": [
        {
          "output_type": "stream",
          "text": [
            "enter any value-4\n",
            "-4 negative number\n"
          ],
          "name": "stdout"
        }
      ]
    },
    {
      "cell_type": "code",
      "metadata": {
        "id": "7ot2Ipd-x-3l",
        "colab_type": "code",
        "colab": {
          "base_uri": "https://localhost:8080/",
          "height": 50
        },
        "outputId": "a59bfca5-83e9-4fb6-c888-fcaa28362e7d"
      },
      "source": [
        "#accept a number from 1 to 5 and print them in words\n",
        "n=int(input(\"enter any digit\"))\n",
        "if n==1:\n",
        "  print('one')\n",
        "elif n==2:\n",
        "  print('two') \n",
        "elif n==3:\n",
        "  print('three')\n",
        "elif n==4:\n",
        "  print('four')\n",
        "elif n==5:\n",
        "  print('five')\n",
        "else:\n",
        "  print(\"pls enter a digit form 1 to 5\")"
      ],
      "execution_count": 44,
      "outputs": [
        {
          "output_type": "stream",
          "text": [
            "enter any digit2\n",
            "two\n"
          ],
          "name": "stdout"
        }
      ]
    },
    {
      "cell_type": "code",
      "metadata": {
        "id": "L4lTLUWOva92",
        "colab_type": "code",
        "colab": {
          "base_uri": "https://localhost:8080/",
          "height": 50
        },
        "outputId": "6630c31f-5301-43c1-9891-4129e1173b10"
      },
      "source": [
        "# Python Program to check character is Vowel or Consonant\n",
        "ch = input(\"\" Enter  Character : \")\n",
        "\n",
        "if(ch == 'a' or ch == 'e' or ch == 'i' or ch == 'o' or ch == 'u' or ch == 'A'\n",
        "       or ch == 'E' or ch == 'I' or ch == 'O' or ch == 'U'):\n",
        "    print(\"The Given Character \", ch, \"is a Vowel\")\n",
        "else:\n",
        "    print(\"The Given Character \", ch, \"is a Consonant\")\n"
      ],
      "execution_count": 36,
      "outputs": [
        {
          "output_type": "stream",
          "text": [
            "Please Enter Your Own Character : a\n",
            "The Given Character  a is a Vowel\n"
          ],
          "name": "stdout"
        }
      ]
    }
  ]
}