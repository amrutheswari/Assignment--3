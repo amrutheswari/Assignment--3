{
  "nbformat": 4,
  "nbformat_minor": 0,
  "metadata": {
    "colab": {
      "name": "Untitled14.ipynb",
      "provenance": [],
      "collapsed_sections": [],
      "authorship_tag": "ABX9TyNaqZ4uxTJNTzSpveHhVdlh",
      "include_colab_link": true
    },
    "kernelspec": {
      "name": "python3",
      "display_name": "Python 3"
    }
  },
  "cells": [
    {
      "cell_type": "markdown",
      "metadata": {
        "id": "view-in-github",
        "colab_type": "text"
      },
      "source": [
        "<a href=\"https://colab.research.google.com/github/amrutheswari/Assignment--3/blob/master/Untitled14.ipynb\" target=\"_parent\"><img src=\"https://colab.research.google.com/assets/colab-badge.svg\" alt=\"Open In Colab\"/></a>"
      ]
    },
    {
      "cell_type": "code",
      "metadata": {
        "id": "3R-7jkU8lqT6",
        "colab_type": "code",
        "colab": {
          "base_uri": "https://localhost:8080/",
          "height": 50
        },
        "outputId": "4449cffd-794f-4b83-e443-9cea59486a70"
      },
      "source": [
        "##check the given number is even or odd\n",
        "num=int(input(\"enter a number\"))\n",
        "if (num%2)==0:\n",
        "   print(num,\"is a even number\")\n",
        "else:\n",
        "   print(num,\"is a odd number\")"
      ],
      "execution_count": 14,
      "outputs": [
        {
          "output_type": "stream",
          "text": [
            "enter a number5\n",
            "5 is a odd number\n"
          ],
          "name": "stdout"
        }
      ]
    },
    {
      "cell_type": "code",
      "metadata": {
        "id": "Nlqi0Cqfrn89",
        "colab_type": "code",
        "colab": {
          "base_uri": "https://localhost:8080/",
          "height": 101
        },
        "outputId": "952edefb-96a7-4950-c391-b936bb119b01"
      },
      "source": [
        "#to print the even series and its sum with total number of even numbers within n\n",
        "\n",
        "num=int(input(\"enter the values\"))\n",
        "count=0\n",
        "sum=0\n",
        "for i in range(1,num+1):\n",
        "  if i%2==0:\n",
        "     print(i)\n",
        "     count+=1\n",
        "     sum=sum+i\n",
        "print(\"sum of even numbers\",sum)\n",
        "print(\"even numbers within \",count)   "
      ],
      "execution_count": 29,
      "outputs": [
        {
          "output_type": "stream",
          "text": [
            "enter the values5\n",
            "2\n",
            "4\n",
            "sum of even numbers 6\n",
            "even numbers within  2\n"
          ],
          "name": "stdout"
        }
      ]
    },
    {
      "cell_type": "code",
      "metadata": {
        "id": "thEH4ubw7GlK",
        "colab_type": "code",
        "colab": {
          "base_uri": "https://localhost:8080/",
          "height": 50
        },
        "outputId": "b5bab821-ee3b-4f10-9ae5-5df92176a603"
      },
      "source": [
        "\n",
        "nun=int(input(\"enter a number\"))\n",
        "fact=1\n",
        "for i in range(1,num+1):\n",
        "  fact=fact*i\n",
        "print(fact)  \n"
      ],
      "execution_count": 31,
      "outputs": [
        {
          "output_type": "stream",
          "text": [
            "enter a number5\n",
            "120\n"
          ],
          "name": "stdout"
        }
      ]
    },
    {
      "cell_type": "code",
      "metadata": {
        "id": "d-RYMOnj7rw_",
        "colab_type": "code",
        "colab": {
          "base_uri": "https://localhost:8080/",
          "height": 118
        },
        "outputId": "70c6e653-7386-461d-d87a-e5475e650e70"
      },
      "source": [
        "num=int(input(\"enter a number\"))\n",
        "count=0\n",
        "for i in range(2,num):\n",
        "  if num%i==0:\n",
        "    count+=1\n",
        "    print(\"factors of a given number\",i)\n",
        "print(\"no.of factors are\",count)    "
      ],
      "execution_count": 35,
      "outputs": [
        {
          "output_type": "stream",
          "text": [
            "enter a number12\n",
            "factors of a given number 2\n",
            "factors of a given number 3\n",
            "factors of a given number 4\n",
            "factors of a given number 6\n",
            "no.of factors are 4\n"
          ],
          "name": "stdout"
        }
      ]
    },
    {
      "cell_type": "code",
      "metadata": {
        "id": "eygV_QDg8Rm1",
        "colab_type": "code",
        "colab": {
          "base_uri": "https://localhost:8080/",
          "height": 34
        },
        "outputId": "852697e9-3fb7-412d-cd69-ea1b07b4ed51"
      },
      "source": [
        "\n",
        "num=int(input(\"enter a number\"))\n",
        "while num>9:\n",
        "  sum=0\n",
        "  while num!=0:\n",
        "    d=num%10\n",
        "    sum=sum+d\n",
        "    n=n/10\n",
        "n=sum\n",
        "print(n)    "
      ],
      "execution_count": null,
      "outputs": [
        {
          "output_type": "stream",
          "text": [
            "enter a number25\n"
          ],
          "name": "stdout"
        }
      ]
    }
  ]
}